{
 "cells": [
  {
   "cell_type": "code",
   "execution_count": 3,
   "metadata": {},
   "outputs": [],
   "source": [
    "# where is the youngest male in the group from?\n",
    "\n",
    "#a. Find the answer using sort_values()\n",
    "\n",
    "#b. Do some research and find the answer using where() and min()\n",
    "\n",
    "#c. Do some research and find the answer using query() and min()\n"
   ]
  },
  {
   "cell_type": "code",
   "execution_count": 80,
   "metadata": {},
   "outputs": [],
   "source": [
    "import pandas as pd\n",
    "names=[\"Tomás\", \"Pauline\", \"Pablo\", \"Bjork\",\"Alan\",\"Juana\"]\n",
    "woman=[False,True,False,False,False,True]\n",
    "ages=[32,33,28,30,32,27]\n",
    "country=[\"Chile\", \"Senegal\", \"Spain\", \"Norway\",\"Peru\",\"Peru\"]\n",
    "education=[\"Bach\", \"Bach\", \"Master\", \"PhD\",\"Bach\",\"Master\"]"
   ]
  },
  {
   "cell_type": "code",
   "execution_count": 81,
   "metadata": {},
   "outputs": [
    {
     "data": {
      "text/plain": [
       "{'names': ['Tomás', 'Pauline', 'Pablo', 'Bjork', 'Alan', 'Juana'],\n",
       " 'woman': [False, True, False, False, False, True],\n",
       " 'ages': [32, 33, 28, 30, 32, 27],\n",
       " 'country': ['Chile', 'Senegal', 'Spain', 'Norway', 'Peru', 'Peru'],\n",
       " 'education': ['Bach', 'Bach', 'Master', 'PhD', 'Bach', 'Master']}"
      ]
     },
     "execution_count": 81,
     "metadata": {},
     "output_type": "execute_result"
    }
   ],
   "source": [
    "data={'names':names,'woman':woman,'ages':ages,'country':country,'education':education}\n",
    "data"
   ]
  },
  {
   "cell_type": "code",
   "execution_count": 82,
   "metadata": {},
   "outputs": [
    {
     "data": {
      "text/html": [
       "<div>\n",
       "<style scoped>\n",
       "    .dataframe tbody tr th:only-of-type {\n",
       "        vertical-align: middle;\n",
       "    }\n",
       "\n",
       "    .dataframe tbody tr th {\n",
       "        vertical-align: top;\n",
       "    }\n",
       "\n",
       "    .dataframe thead th {\n",
       "        text-align: right;\n",
       "    }\n",
       "</style>\n",
       "<table border=\"1\" class=\"dataframe\">\n",
       "  <thead>\n",
       "    <tr style=\"text-align: right;\">\n",
       "      <th></th>\n",
       "      <th>names</th>\n",
       "      <th>woman</th>\n",
       "      <th>ages</th>\n",
       "      <th>country</th>\n",
       "      <th>education</th>\n",
       "    </tr>\n",
       "  </thead>\n",
       "  <tbody>\n",
       "    <tr>\n",
       "      <th>0</th>\n",
       "      <td>Tomás</td>\n",
       "      <td>False</td>\n",
       "      <td>32</td>\n",
       "      <td>Chile</td>\n",
       "      <td>Bach</td>\n",
       "    </tr>\n",
       "    <tr>\n",
       "      <th>1</th>\n",
       "      <td>Pauline</td>\n",
       "      <td>True</td>\n",
       "      <td>33</td>\n",
       "      <td>Senegal</td>\n",
       "      <td>Bach</td>\n",
       "    </tr>\n",
       "    <tr>\n",
       "      <th>2</th>\n",
       "      <td>Pablo</td>\n",
       "      <td>False</td>\n",
       "      <td>28</td>\n",
       "      <td>Spain</td>\n",
       "      <td>Master</td>\n",
       "    </tr>\n",
       "    <tr>\n",
       "      <th>3</th>\n",
       "      <td>Bjork</td>\n",
       "      <td>False</td>\n",
       "      <td>30</td>\n",
       "      <td>Norway</td>\n",
       "      <td>PhD</td>\n",
       "    </tr>\n",
       "    <tr>\n",
       "      <th>4</th>\n",
       "      <td>Alan</td>\n",
       "      <td>False</td>\n",
       "      <td>32</td>\n",
       "      <td>Peru</td>\n",
       "      <td>Bach</td>\n",
       "    </tr>\n",
       "    <tr>\n",
       "      <th>5</th>\n",
       "      <td>Juana</td>\n",
       "      <td>True</td>\n",
       "      <td>27</td>\n",
       "      <td>Peru</td>\n",
       "      <td>Master</td>\n",
       "    </tr>\n",
       "  </tbody>\n",
       "</table>\n",
       "</div>"
      ],
      "text/plain": [
       "     names  woman  ages  country education\n",
       "0    Tomás  False    32    Chile      Bach\n",
       "1  Pauline   True    33  Senegal      Bach\n",
       "2    Pablo  False    28    Spain    Master\n",
       "3    Bjork  False    30   Norway       PhD\n",
       "4     Alan  False    32     Peru      Bach\n",
       "5    Juana   True    27     Peru    Master"
      ]
     },
     "execution_count": 82,
     "metadata": {},
     "output_type": "execute_result"
    }
   ],
   "source": [
    "friends=pd.DataFrame.from_dict(data)\n",
    "friends"
   ]
  },
  {
   "cell_type": "code",
   "execution_count": 83,
   "metadata": {},
   "outputs": [
    {
     "data": {
      "text/html": [
       "<div>\n",
       "<style scoped>\n",
       "    .dataframe tbody tr th:only-of-type {\n",
       "        vertical-align: middle;\n",
       "    }\n",
       "\n",
       "    .dataframe tbody tr th {\n",
       "        vertical-align: top;\n",
       "    }\n",
       "\n",
       "    .dataframe thead th {\n",
       "        text-align: right;\n",
       "    }\n",
       "</style>\n",
       "<table border=\"1\" class=\"dataframe\">\n",
       "  <thead>\n",
       "    <tr style=\"text-align: right;\">\n",
       "      <th></th>\n",
       "      <th>index</th>\n",
       "      <th>names</th>\n",
       "      <th>woman</th>\n",
       "      <th>ages</th>\n",
       "      <th>country</th>\n",
       "      <th>education</th>\n",
       "    </tr>\n",
       "  </thead>\n",
       "  <tbody>\n",
       "    <tr>\n",
       "      <th>0</th>\n",
       "      <td>5</td>\n",
       "      <td>Juana</td>\n",
       "      <td>True</td>\n",
       "      <td>27</td>\n",
       "      <td>Peru</td>\n",
       "      <td>Master</td>\n",
       "    </tr>\n",
       "    <tr>\n",
       "      <th>1</th>\n",
       "      <td>2</td>\n",
       "      <td>Pablo</td>\n",
       "      <td>False</td>\n",
       "      <td>28</td>\n",
       "      <td>Spain</td>\n",
       "      <td>Master</td>\n",
       "    </tr>\n",
       "    <tr>\n",
       "      <th>2</th>\n",
       "      <td>3</td>\n",
       "      <td>Bjork</td>\n",
       "      <td>False</td>\n",
       "      <td>30</td>\n",
       "      <td>Norway</td>\n",
       "      <td>PhD</td>\n",
       "    </tr>\n",
       "    <tr>\n",
       "      <th>3</th>\n",
       "      <td>0</td>\n",
       "      <td>Tomás</td>\n",
       "      <td>False</td>\n",
       "      <td>32</td>\n",
       "      <td>Chile</td>\n",
       "      <td>Bach</td>\n",
       "    </tr>\n",
       "    <tr>\n",
       "      <th>4</th>\n",
       "      <td>4</td>\n",
       "      <td>Alan</td>\n",
       "      <td>False</td>\n",
       "      <td>32</td>\n",
       "      <td>Peru</td>\n",
       "      <td>Bach</td>\n",
       "    </tr>\n",
       "    <tr>\n",
       "      <th>5</th>\n",
       "      <td>1</td>\n",
       "      <td>Pauline</td>\n",
       "      <td>True</td>\n",
       "      <td>33</td>\n",
       "      <td>Senegal</td>\n",
       "      <td>Bach</td>\n",
       "    </tr>\n",
       "  </tbody>\n",
       "</table>\n",
       "</div>"
      ],
      "text/plain": [
       "   index    names  woman  ages  country education\n",
       "0      5    Juana   True    27     Peru    Master\n",
       "1      2    Pablo  False    28    Spain    Master\n",
       "2      3    Bjork  False    30   Norway       PhD\n",
       "3      0    Tomás  False    32    Chile      Bach\n",
       "4      4     Alan  False    32     Peru      Bach\n",
       "5      1  Pauline   True    33  Senegal      Bach"
      ]
     },
     "execution_count": 83,
     "metadata": {},
     "output_type": "execute_result"
    }
   ],
   "source": [
    "toSort=[\"ages\"]\n",
    "Order=[True]\n",
    "friendscopy1=friends.sort_values(by=toSort,ascending=Order).reset_index()\n",
    "friendscopy"
   ]
  },
  {
   "cell_type": "code",
   "execution_count": 84,
   "metadata": {},
   "outputs": [
    {
     "data": {
      "text/plain": [
       "0    Peru\n",
       "Name: country, dtype: object"
      ]
     },
     "execution_count": 84,
     "metadata": {},
     "output_type": "execute_result"
    }
   ],
   "source": [
    "friendscopy1.head(1).country\n",
    "#this isn't correct because it isn't a male. I have NO IDEA how to additionally qualify by Woman==False\n",
    "#I've iterated other options here to return results conditionally but have failed miserably to avoid errors."
   ]
  },
  {
   "cell_type": "code",
   "execution_count": 85,
   "metadata": {},
   "outputs": [
    {
     "data": {
      "text/plain": [
       "5    Peru\n",
       "Name: country, dtype: object"
      ]
     },
     "execution_count": 85,
     "metadata": {},
     "output_type": "execute_result"
    }
   ],
   "source": [
    "#I also figured out how to maintain the structure after doing something with inplace=true This is still incorrect because I need to only return the value for woman==False\n",
    "friends.sort_values('ages',ascending=True,inplace=True)\n",
    "friends.head(1).country"
   ]
  }
 ],
 "metadata": {
  "kernelspec": {
   "display_name": "Python 3",
   "language": "python",
   "name": "python3"
  },
  "language_info": {
   "codemirror_mode": {
    "name": "ipython",
    "version": 3
   },
   "file_extension": ".py",
   "mimetype": "text/x-python",
   "name": "python",
   "nbconvert_exporter": "python",
   "pygments_lexer": "ipython3",
   "version": "3.7.1"
  }
 },
 "nbformat": 4,
 "nbformat_minor": 2
}
